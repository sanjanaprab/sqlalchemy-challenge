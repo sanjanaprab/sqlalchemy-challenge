{
 "cells": [
  {
   "cell_type": "code",
   "execution_count": 1,
   "metadata": {},
   "outputs": [],
   "source": [
    "# Import Dependencies \n",
    "from flask import Flask, jsonify\n",
    "from sqlalchemy import create_engine, func\n",
    "from sqlalchemy.ext.automap import automap_base\n",
    "from sqlalchemy.orm import Session\n",
    "import datetime as dt"
   ]
  },
  {
   "cell_type": "code",
   "execution_count": 2,
   "metadata": {},
   "outputs": [],
   "source": [
    "# Initilize the Flask app\n",
    "app = Flask(__name__)"
   ]
  },
  {
   "cell_type": "code",
   "execution_count": 3,
   "metadata": {},
   "outputs": [
    {
     "name": "stderr",
     "output_type": "stream",
     "text": [
      "/var/folders/r6/yhgds1l94vl2k1823y88zj4r0000gn/T/ipykernel_84441/3526811208.py:4: SADeprecationWarning: The AutomapBase.prepare.reflect parameter is deprecated and will be removed in a future release.  Reflection is enabled when AutomapBase.prepare.autoload_with is passed.\n",
      "  Base.prepare(engine, reflect=True)\n"
     ]
    }
   ],
   "source": [
    "# Set up database\n",
    "engine = create_engine(\"sqlite:///Resources/hawaii.sqlite\")\n",
    "Base = automap_base()\n",
    "Base.prepare(engine, reflect=True)\n",
    "\n",
    "# Save references to the tables\n",
    "Measurement = Base.classes.measurement\n",
    "Station = Base.classes.station"
   ]
  },
  {
   "cell_type": "code",
   "execution_count": 4,
   "metadata": {},
   "outputs": [],
   "source": [
    "# Create API Routes\n",
    "@app.route(\"/\")\n",
    "def welcome():\n",
    "    return (\n",
    "        f\"Welcome to the Hawaii Climate API!<br/><br/>\"\n",
    "        f\"Available Routes:<br/>\"\n",
    "        f\"/api/v1.0/precipitation<br/>\"\n",
    "        f\"/api/v1.0/stations<br/>\"\n",
    "        f\"/api/v1.0/tobs<br/>\"\n",
    "        f\"/api/v1.0/<start><br/>\"\n",
    "        f\"/api/v1.0/<start>/<end><br/>\"\n",
    "    )\n"
   ]
  },
  {
   "cell_type": "code",
   "execution_count": 5,
   "metadata": {},
   "outputs": [],
   "source": [
    "@app.route(\"/api/v1.0/precipitation\")\n",
    "def precipitation():\n",
    "    # Open session\n",
    "    session = Session(engine)\n",
    "\n",
    "    # Find the most recent date in the data\n",
    "    most_recent_date = session.query(Measurement.date).order_by(Measurement.date.desc()).first()[0]\n",
    "    most_recent_date = dt.datetime.strptime(most_recent_date, '%Y-%m-%d')\n",
    "    one_year_ago = most_recent_date - dt.timedelta(days=365)\n",
    "\n",
    "    # Query for the last 12 months of precipitation data\n",
    "    precipitation_data = session.query(Measurement.date, Measurement.prcp).filter(Measurement.date >= one_year_ago).all()\n",
    "\n",
    "    # Close session\n",
    "    session.close()\n",
    "\n",
    "    # Convert query results to dictionary\n",
    "    precipitation_dict = {date: prcp for date, prcp in precipitation_data}\n",
    "\n",
    "    return jsonify(precipitation_dict)\n"
   ]
  },
  {
   "cell_type": "code",
   "execution_count": 6,
   "metadata": {},
   "outputs": [],
   "source": [
    "@app.route(\"/api/v1.0/stations\")\n",
    "def stations():\n",
    "    # Open session\n",
    "    session = Session(engine)\n",
    "\n",
    "    # Query all stations\n",
    "    stations_data = session.query(Station.station).all()\n",
    "\n",
    "    # Close session\n",
    "    session.close()\n",
    "\n",
    "    # Unpack the station data into a list\n",
    "    stations_list = [station[0] for station in stations_data]\n",
    "\n",
    "    return jsonify(stations_list)\n"
   ]
  },
  {
   "cell_type": "code",
   "execution_count": 7,
   "metadata": {},
   "outputs": [],
   "source": [
    "@app.route(\"/api/v1.0/tobs\")\n",
    "def tobs():\n",
    "    # Open session\n",
    "    session = Session(engine)\n",
    "\n",
    "    # Find the most active station\n",
    "    most_active_station = session.query(Measurement.station, func.count(Measurement.station)) \\\n",
    "        .group_by(Measurement.station) \\\n",
    "        .order_by(func.count(Measurement.station).desc()) \\\n",
    "        .first()[0]\n",
    "\n",
    "    # Find the most recent date and the date one year ago\n",
    "    most_recent_date = session.query(Measurement.date).order_by(Measurement.date.desc()).first()[0]\n",
    "    most_recent_date = dt.datetime.strptime(most_recent_date, '%Y-%m-%d')\n",
    "    one_year_ago = most_recent_date - dt.timedelta(days=365)\n",
    "\n",
    "    # Query the temperature observations for the most active station in the last year\n",
    "    tobs_data = session.query(Measurement.date, Measurement.tobs) \\\n",
    "        .filter(Measurement.station == most_active_station) \\\n",
    "        .filter(Measurement.date >= one_year_ago) \\\n",
    "        .all()\n",
    "\n",
    "    # Close session\n",
    "    session.close()\n",
    "\n",
    "    # Convert query results to a list of temperature observations\n",
    "    tobs_list = [tobs[1] for tobs in tobs_data]\n",
    "\n",
    "    return jsonify(tobs_list)\n"
   ]
  },
  {
   "cell_type": "code",
   "execution_count": 8,
   "metadata": {},
   "outputs": [],
   "source": [
    "@app.route(\"/api/v1.0/<start>\")\n",
    "def temperature_start(start):\n",
    "    # Open session\n",
    "    session = Session(engine)\n",
    "\n",
    "    # Query min, max, and avg temperatures from the start date\n",
    "    temperature_data = session.query(func.min(Measurement.tobs), func.avg(Measurement.tobs), func.max(Measurement.tobs)) \\\n",
    "        .filter(Measurement.date >= start).all()\n",
    "\n",
    "    # Close session\n",
    "    session.close()\n",
    "\n",
    "    return jsonify({\n",
    "        \"Start Date\": start,\n",
    "        \"Min Temperature\": temperature_data[0][0],\n",
    "        \"Avg Temperature\": temperature_data[0][1],\n",
    "        \"Max Temperature\": temperature_data[0][2]\n",
    "    })\n"
   ]
  },
  {
   "cell_type": "code",
   "execution_count": 9,
   "metadata": {},
   "outputs": [],
   "source": [
    "@app.route(\"/api/v1.0/<start>/<end>\")\n",
    "def temperature_start_end(start, end):\n",
    "    # Open session\n",
    "    session = Session(engine)\n",
    "\n",
    "    # Query min, max, and avg temperatures for the date range\n",
    "    temperature_data = session.query(func.min(Measurement.tobs), func.avg(Measurement.tobs), func.max(Measurement.tobs)) \\\n",
    "        .filter(Measurement.date >= start) \\\n",
    "        .filter(Measurement.date <= end).all()\n",
    "\n",
    "    # Close session\n",
    "    session.close()\n",
    "\n",
    "    return jsonify({\n",
    "        \"Start Date\": start,\n",
    "        \"End Date\": end,\n",
    "        \"Min Temperature\": temperature_data[0][0],\n",
    "        \"Avg Temperature\": temperature_data[0][1],\n",
    "        \"Max Temperature\": temperature_data[0][2]\n",
    "    })\n"
   ]
  }
 ],
 "metadata": {
  "anaconda-cloud": {},
  "kernel_info": {
   "name": "python3"
  },
  "kernelspec": {
   "display_name": "Python 3 (ipykernel)",
   "language": "python",
   "name": "python3"
  },
  "language_info": {
   "codemirror_mode": {
    "name": "ipython",
    "version": 3
   },
   "file_extension": ".py",
   "mimetype": "text/x-python",
   "name": "python",
   "nbconvert_exporter": "python",
   "pygments_lexer": "ipython3",
   "version": "3.12.4"
  },
  "nteract": {
   "version": "0.12.3"
  },
  "varInspector": {
   "cols": {
    "lenName": 16,
    "lenType": 16,
    "lenVar": 40
   },
   "kernels_config": {
    "python": {
     "delete_cmd_postfix": "",
     "delete_cmd_prefix": "del ",
     "library": "var_list.py",
     "varRefreshCmd": "print(var_dic_list())"
    },
    "r": {
     "delete_cmd_postfix": ") ",
     "delete_cmd_prefix": "rm(",
     "library": "var_list.r",
     "varRefreshCmd": "cat(var_dic_list()) "
    }
   },
   "types_to_exclude": [
    "module",
    "function",
    "builtin_function_or_method",
    "instance",
    "_Feature"
   ],
   "window_display": false
  }
 },
 "nbformat": 4,
 "nbformat_minor": 2
}
